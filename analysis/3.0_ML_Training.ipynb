{
 "cells": [
  {
   "cell_type": "code",
   "execution_count": 1,
   "metadata": {},
   "outputs": [],
   "source": [
    "from util.gen_utils import *\n",
    "from util.ml_utils import *\n",
    "from util.plot_utils import *\n",
    "\n",
    "import os\n",
    "\n",
    "%load_ext autoreload\n",
    "%autoreload 2\n",
    "%matplotlib inline"
   ]
  },
  {
   "cell_type": "markdown",
   "metadata": {},
   "source": [
    "# Load training data"
   ]
  },
  {
   "cell_type": "code",
   "execution_count": 2,
   "metadata": {},
   "outputs": [
    {
     "name": "stdout",
     "output_type": "stream",
     "text": [
      "querying 1-1000...done.\n",
      "querying 1001-2000...done.\n",
      "querying 2001-3000...done.\n",
      "querying 3001-4000...done.\n",
      "querying 4001-5000...done.\n",
      "querying 5001-6000...done.\n",
      "querying 6001-7000...done.\n",
      "querying 7001-7041...done.\n",
      "Finished.\n",
      "15 input query terms found no hit:\n",
      "\t['ENSG00000133808', 'ENSG00000150076', 'ENSG00000155640', 'ENSG00000199837', 'ENSG00000213846', 'ENS\n",
      "querying 1-15...done.\n",
      "Finished.\n",
      "8 input query terms found no hit:\n",
      "\t['AL356053.1', 'none', 'none', 'RP11-367G6.3', 'none', 'none', 'none', 'none']\n"
     ]
    }
   ],
   "source": [
    "train_rnaseq = rnaseq_data(\"../../data/rnaseq_discovery_data/htseq_postQC.csv\", \"../../data/rnaseq_discovery_data/TMM_postQC.csv\", mygene_db = mygene.MyGeneInfo())\n",
    "train_rnaseq.filter_to_gene_types(['protein_coding']) #Validation will be done with qPCR so limit to protein_coding\n",
    "\n",
    "train_meta = read_sample_meta_table(\"../../data/rnaseq_discovery_data/sample_meta_postQC.csv\")"
   ]
  },
  {
   "cell_type": "code",
   "execution_count": 3,
   "metadata": {},
   "outputs": [],
   "source": [
    "#Data mask\n",
    "training_frac = 1.0 #Bcz all PE_STAN data was used in DE analysis and that is used for feature selection, all should be used for training\n",
    "\n",
    "masks = data_masks(train_frac = training_frac, seed = 1041, label_col = 'case') \n",
    "masks.add_mask('is_collected_pre17wks', (train_meta.ga_at_collection <= 16))\n",
    "masks.add_mask('is_training', masks.get_sampled_mask(train_meta, addtnl_mask_label = 'is_collected_pre17wks', blocking_col = 'subject'))\n",
    "\n",
    "#Logical combinations\n",
    "masks.add_mask_logical_and_combinations('is_training', 'is_collected_pre17wks')"
   ]
  },
  {
   "cell_type": "markdown",
   "metadata": {},
   "source": [
    "# Feature selection and model training\n",
    "* Start with features identified in DE and identify logFC changes pre and post 17 weeks\n",
    "* Filter initial list based on:\n",
    "    * Coefficient of variation cutoff [Want genes that appear to have stable logFC]\n",
    "    * logFC cutoff [Want genes that appear to be sig different between PE and control]\n",
    "    * CPM cutoff [Want highly expressed genes such that detection in qPCR or in smaller plasma sample is expected]\n",
    "        * Based on standard curve with qPCR, want at least CPM = 200 for average depth of 50 million reads\n",
    "            * 200 CPM = 10000/50\n",
    "* To choose appro cutoff for each filter, do param sweep + LR model"
   ]
  },
  {
   "cell_type": "code",
   "execution_count": 4,
   "metadata": {},
   "outputs": [
    {
     "name": "stdout",
     "output_type": "stream",
     "text": [
      "Now calculating logFC for Pre 17 weeks\n",
      "Now calculating logFC for Post 17 weeks\n",
      "Now estimating logFC confidence interval for Pre 17 weeks\n",
      "1000 resampling iterations completed\n",
      "2000 resampling iterations completed\n",
      "Now estimating logFC confidence interval for Post 17 weeks\n",
      "1000 resampling iterations completed\n",
      "2000 resampling iterations completed\n",
      "Identifying when during gestation we observe changes\n"
     ]
    }
   ],
   "source": [
    "de_PE = de_data(\"out/de/DE_PEspecific_changes_over_gestation.csv\", alpha = 0.05, de_type = 'PE preg changes')\n",
    "sig_protein_coding_genes = de_PE.de.index[de_PE.is_sig_mask].intersection(train_rnaseq.logCPM.index)\n",
    "\n",
    "logFC_pre17_sig = logFC_data_by_group(sig_protein_coding_genes, {True : 'Pre 17 weeks', False : 'Post 17 weeks'}, group_col = 'pre17_weeks', CV_cutoff = 1.0, logFC_cutoff = 0.5)\n",
    "logFC_pre17_sig.get_logFC_and_CI_by_group(train_rnaseq.logCPM.loc[sig_protein_coding_genes, :], train_meta.join(masks.masks['is_training_and_is_collected_pre17wks'].rename('pre17_weeks')))"
   ]
  },
  {
   "cell_type": "code",
   "execution_count": null,
   "metadata": {},
   "outputs": [],
   "source": [
    "cv_cutoff_vals = np.arange(0.2, 1.1, 0.05) #Upper limit = 1.0 since CV > 1.0 means logFC switched signs\n",
    "logFC_cutoff_vals = np.arange(0, 1.25, 0.25) #logFC thresholding, visualizing data previously, mean |logFC| < 1.0 so sweep between 0 - 1.0\n",
    "high_expr_cutoff_vals = np.array([200]) #Min = 200 based on qPCR standard curve expt\n",
    "\n",
    "best_fit = training_pipeline(train_meta.loc[masks.masks['is_training_and_is_collected_pre17wks']], train_rnaseq, logFC_pre17_sig, ['Pre 17 weeks'], \n",
    "\t\t\t\t\t\tcv_cutoff_vals, logFC_cutoff_vals, high_expr_cutoff_vals, n_max_coef = 25)"
   ]
  },
  {
   "cell_type": "markdown",
   "metadata": {},
   "source": [
    "# Check model performance\n",
    "* Check with training data\n",
    "* Check with independent dataset - Del Vecchio et al\n",
    "* Check with qPCR dataset from separate samples"
   ]
  },
  {
   "cell_type": "code",
   "execution_count": null,
   "metadata": {},
   "outputs": [],
   "source": [
    "train_data = ML_data(meta = train_meta.loc[masks.masks['is_training_and_is_collected_pre17wks']], rnaseq_inst = train_rnaseq, y_col = 'case', \n",
    "                     to_batch_correct = True, group_col = 'subject', features = best_fit['features'])\n",
    "\n",
    "get_classification_results('Training', best_fit['model'], train_data)"
   ]
  },
  {
   "cell_type": "code",
   "execution_count": null,
   "metadata": {},
   "outputs": [],
   "source": [
    "w_pred_train = train_meta.loc[masks.masks['is_training_and_is_collected_pre17wks']].join(pd.Series(best_fit['model'].predict(train_data.X), index = train_data.y.index, name = 'prediction'))\n",
    "w_pred_train.loc[w_pred_train.case != w_pred_train.prediction]#, ['ga_at_collection', 'pe_onset_ga_wk', 'pe_onset_ga_day', 'ga_wk_del', 'ga_day_del']]"
   ]
  },
  {
   "cell_type": "code",
   "execution_count": null,
   "metadata": {},
   "outputs": [],
   "source": [
    "delvecchio_sample_meta = read_delvecchio_meta(biosample_results_path = '../../data/delvecchio_data/biosample_result.txt', sra_results_path = '../../data/delvecchio_data/SraRunTable.txt')\n",
    "delvecchio_rnaseq = rnaseq_data(\"../../data/delvecchio_data/htseq_merged.csv\", \"../../data/delvecchio_data/TMM.csv\", mL_plasma = 0.2)\n",
    "\n",
    "#ML data should only contains samples <= 17 weeks which per Del Vecchio et al are T1 samples\n",
    "delvecchio_ml_data = ML_data(meta = delvecchio_sample_meta.loc[delvecchio_sample_meta.term == 1], rnaseq_inst = delvecchio_rnaseq, y_col = 'case', \n",
    "                     to_batch_correct = True, features = best_fit['features'])\n",
    "\n",
    "#only_pe_no_comp = delvecchio_sample_meta.loc[np.logical_and(delvecchio_sample_meta.term == 1, delvecchio_sample_meta.complication_during_pregnancy.isin(['No Complications', 'Preeclampsia/gestational hypertension']))].index\n",
    "#delvecchio_ml_data.X, delvecchio_ml_data.y = delvecchio_ml_data.filter_samples(only_pe_no_comp)\n",
    "\n",
    "get_classification_results('Delvecchio', best_fit['model'], delvecchio_ml_data)"
   ]
  },
  {
   "cell_type": "code",
   "execution_count": null,
   "metadata": {},
   "outputs": [],
   "source": [
    "w_pred = delvecchio_sample_meta.join(pd.Series(best_fit['model'].predict(delvecchio_ml_data.X), index = delvecchio_ml_data.y.index, name = 'prediction')).dropna()\n",
    "w_pred.loc[w_pred.case != w_pred.prediction]"
   ]
  },
  {
   "cell_type": "code",
   "execution_count": null,
   "metadata": {},
   "outputs": [],
   "source": [
    "plot_logCPM([train_data.X, delvecchio_ml_data.X], [train_data.y, delvecchio_ml_data.y], ['train', 'delvecchio'], best_fit['features'])"
   ]
  },
  {
   "cell_type": "code",
   "execution_count": 10,
   "metadata": {},
   "outputs": [],
   "source": [
    "def plot_logCPM(CPM_list, meta_list, data_names, genes, colors = [\"#92c5de\", \"#ca0020\"], ylabel = \"$log_2(CPM + 1)$\"):\n",
    "    fig, ax = plt.subplots(1, len(genes), sharey = 'row', sharex = 'col', figsize = (40, 5))\n",
    "\n",
    "    col_i = 0\n",
    "    for val in genes:\n",
    "        name = val[0] \n",
    "        name = val if name == \"none\" else name\n",
    "\n",
    "        to_plot = None\n",
    "        for i in range(len(meta_list)):\n",
    "            to_plot_i = pd.DataFrame(meta_list[i]) #meta_list[i].loc[:, [\"case\"]].sort_values(by=[\"case\"])\n",
    "            to_plot_i.insert(to_plot_i.shape[1], name, CPM_list[i].loc[:, val])\n",
    "            to_plot_i.insert(to_plot_i.shape[1], 'type', data_names[i])\n",
    "            to_plot = to_plot_i if to_plot is None else pd.concat((to_plot, to_plot_i), axis=0)\n",
    "            \n",
    "        sns.boxplot(x=\"type\", y=name, hue=\"case\",  dodge=True, palette=colors, data=to_plot, showfliers = True, ax = ax[col_i])  # split=True,\n",
    "        #plt.locator_params(axis=\"x\", nbins=5)\n",
    "        #labels = ['Cntrl', 'PE']\n",
    "        #labels = ['T1', 'T2']\n",
    "        #ax[i, col_i].set_xticklabels(labels)\n",
    "\n",
    "        if col_i == 0:\n",
    "            ax[col_i].set_ylabel(ylabel)\n",
    "        else:\n",
    "            ax[col_i].set_ylabel(\"\")\n",
    "        \n",
    "        ax[col_i].set_title(name)\n",
    "        \n",
    "        #ax[icol_i].set_xlabel(\"Term\")\n",
    "\n",
    "                \n",
    "        sns.despine(left=True)\n",
    "        #plt.legend(ncol=3, frameon=0, bbox_to_anchor=(1.03, 1.12))\n",
    "        col_i += 1"
   ]
  },
  {
   "cell_type": "code",
   "execution_count": null,
   "metadata": {},
   "outputs": [],
   "source": []
  }
 ],
 "metadata": {
  "kernelspec": {
   "display_name": "Python [conda env:gen_comp]",
   "language": "python",
   "name": "conda-env-gen_comp-py"
  },
  "language_info": {
   "codemirror_mode": {
    "name": "ipython",
    "version": 3
   },
   "file_extension": ".py",
   "mimetype": "text/x-python",
   "name": "python",
   "nbconvert_exporter": "python",
   "pygments_lexer": "ipython3",
   "version": "3.6.10"
  }
 },
 "nbformat": 4,
 "nbformat_minor": 4
}
