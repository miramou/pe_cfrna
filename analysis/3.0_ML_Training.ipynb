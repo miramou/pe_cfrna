{
 "cells": [
  {
   "cell_type": "code",
   "execution_count": 1,
   "metadata": {},
   "outputs": [],
   "source": [
    "from util.ml_utils import *\n",
    "from util.class_def.ml_obj_classes import *\n",
    "from util.plot_utils import *\n",
    "\n",
    "import os\n",
    "\n",
    "%load_ext autoreload\n",
    "%autoreload 2\n",
    "%matplotlib inline"
   ]
  },
  {
   "cell_type": "markdown",
   "metadata": {},
   "source": [
    "# Train logisitic regression models"
   ]
  },
  {
   "cell_type": "code",
   "execution_count": null,
   "metadata": {},
   "outputs": [
    {
     "name": "stdout",
     "output_type": "stream",
     "text": [
      "querying 1-1000...done.\n",
      "querying 1001-2000...done.\n",
      "querying 2001-3000...done.\n",
      "querying 3001-4000...done.\n",
      "querying 4001-5000...done.\n",
      "querying 5001-6000...done.\n",
      "querying 6001-7000...done.\n",
      "querying 7001-7041...done.\n",
      "Finished.\n",
      "15 input query terms found no hit:\n",
      "\t['ENSG00000133808', 'ENSG00000150076', 'ENSG00000155640', 'ENSG00000199837', 'ENSG00000213846', 'ENS\n",
      "querying 1-15...done.\n",
      "Finished.\n",
      "8 input query terms found no hit:\n",
      "\t['AL356053.1', 'none', 'none', 'RP11-367G6.3', 'none', 'none', 'none', 'none']\n",
      "querying 1-1000...done.\n",
      "querying 1001-2000...done.\n",
      "querying 2001-3000...done.\n",
      "querying 3001-4000...done.\n",
      "querying 4001-4922...done.\n",
      "Finished.\n",
      "13 input query terms found no hit:\n",
      "\t['ENSG00000133808', 'ENSG00000155640', 'ENSG00000213846', 'ENSG00000265764', 'ENSG00000272053', 'ENS\n",
      "querying 1-13...done.\n",
      "Finished.\n",
      "8 input query terms found no hit:\n",
      "\t['none', 'none', 'RP11-367G6.3', 'none', 'none', 'none', 'none', 'none']\n",
      "Now fitting model 1 of 15 with inverse regularization strength = 0.010\n",
      "Now fitting model 1 of 4 with l1_ratio = 0.25\n",
      "Now fitting model 2 of 4 with l1_ratio = 0.50\n",
      "Now fitting model 3 of 4 with l1_ratio = 0.75\n",
      "Now fitting model 4 of 4 with l1_ratio = 1.00\n",
      "Now fitting model 2 of 15 with inverse regularization strength = 0.016\n",
      "Now fitting model 1 of 4 with l1_ratio = 0.25\n",
      "Now fitting model 2 of 4 with l1_ratio = 0.50\n",
      "Now fitting model 3 of 4 with l1_ratio = 0.75\n",
      "Now fitting model 4 of 4 with l1_ratio = 1.00\n",
      "Now fitting model 3 of 15 with inverse regularization strength = 0.027\n",
      "Now fitting model 1 of 4 with l1_ratio = 0.25\n",
      "Now fitting model 2 of 4 with l1_ratio = 0.50\n",
      "Now fitting model 3 of 4 with l1_ratio = 0.75\n",
      "Now fitting model 4 of 4 with l1_ratio = 1.00\n",
      "Now fitting model 4 of 15 with inverse regularization strength = 0.044\n",
      "Now fitting model 1 of 4 with l1_ratio = 0.25\n",
      "Now fitting model 2 of 4 with l1_ratio = 0.50\n",
      "Now fitting model 3 of 4 with l1_ratio = 0.75\n",
      "Now fitting model 4 of 4 with l1_ratio = 1.00\n",
      "Now fitting model 5 of 15 with inverse regularization strength = 0.072\n",
      "Now fitting model 1 of 4 with l1_ratio = 0.25\n",
      "Now fitting model 2 of 4 with l1_ratio = 0.50\n",
      "Now fitting model 3 of 4 with l1_ratio = 0.75\n",
      "Now fitting model 4 of 4 with l1_ratio = 1.00\n",
      "Now fitting model 6 of 15 with inverse regularization strength = 0.118\n",
      "Now fitting model 1 of 4 with l1_ratio = 0.25\n",
      "Now fitting model 2 of 4 with l1_ratio = 0.50\n",
      "Now fitting model 3 of 4 with l1_ratio = 0.75\n",
      "Now fitting model 4 of 4 with l1_ratio = 1.00\n",
      "Now fitting model 7 of 15 with inverse regularization strength = 0.193\n",
      "Now fitting model 1 of 4 with l1_ratio = 0.25\n",
      "Now fitting model 2 of 4 with l1_ratio = 0.50\n",
      "Now fitting model 3 of 4 with l1_ratio = 0.75\n",
      "Now fitting model 4 of 4 with l1_ratio = 1.00\n",
      "Now fitting model 8 of 15 with inverse regularization strength = 0.316\n",
      "Now fitting model 1 of 4 with l1_ratio = 0.25\n",
      "Now fitting model 2 of 4 with l1_ratio = 0.50\n",
      "Now fitting model 3 of 4 with l1_ratio = 0.75\n",
      "Now fitting model 4 of 4 with l1_ratio = 1.00\n",
      "Now fitting model 9 of 15 with inverse regularization strength = 0.518\n",
      "Now fitting model 1 of 4 with l1_ratio = 0.25\n",
      "Now fitting model 2 of 4 with l1_ratio = 0.50\n",
      "Now fitting model 3 of 4 with l1_ratio = 0.75\n",
      "Now fitting model 4 of 4 with l1_ratio = 1.00\n",
      "Now fitting model 10 of 15 with inverse regularization strength = 0.848\n",
      "Now fitting model 1 of 4 with l1_ratio = 0.25\n",
      "Now fitting model 2 of 4 with l1_ratio = 0.50\n",
      "Now fitting model 3 of 4 with l1_ratio = 0.75\n",
      "Now fitting model 4 of 4 with l1_ratio = 1.00\n",
      "Now fitting model 11 of 15 with inverse regularization strength = 1.389\n",
      "Now fitting model 1 of 4 with l1_ratio = 0.25\n",
      "Now fitting model 2 of 4 with l1_ratio = 0.50\n",
      "Now fitting model 3 of 4 with l1_ratio = 0.75\n",
      "Now fitting model 4 of 4 with l1_ratio = 1.00\n",
      "Now fitting model 12 of 15 with inverse regularization strength = 2.276\n",
      "Now fitting model 1 of 4 with l1_ratio = 0.25\n"
     ]
    }
   ],
   "source": [
    "%run ml_training.py \"../../data/rnaseq_discovery_data/htseq_postQC.csv\" \"../../data/rnaseq_discovery_data/TMM_postQC.csv\" \"../../data/rnaseq_discovery_data/sample_meta_postQC.csv\" \"out/ml/\" \\\n",
    "        --holdout_set_path \"../../data/rnaseq_validation_data/htseq_postQC.csv\" --holdout_tmm_path  \"../../data/rnaseq_validation_data/TMM_postQC.csv\" --holdout_meta_path \"../../data/rnaseq_validation_data/sample_meta_postQC.csv\" \\\n",
    "        --to_batch_correct \"True\" -gt \"protein_coding,lncRNA\""
   ]
  },
  {
   "cell_type": "code",
   "execution_count": null,
   "metadata": {},
   "outputs": [],
   "source": []
  }
 ],
 "metadata": {
  "kernelspec": {
   "display_name": "Python [conda env:gen_comp]",
   "language": "python",
   "name": "conda-env-gen_comp-py"
  },
  "language_info": {
   "codemirror_mode": {
    "name": "ipython",
    "version": 3
   },
   "file_extension": ".py",
   "mimetype": "text/x-python",
   "name": "python",
   "nbconvert_exporter": "python",
   "pygments_lexer": "ipython3",
   "version": "3.6.10"
  }
 },
 "nbformat": 4,
 "nbformat_minor": 4
}
