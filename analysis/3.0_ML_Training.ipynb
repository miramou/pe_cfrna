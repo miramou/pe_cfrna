{
 "cells": [
  {
   "cell_type": "code",
   "execution_count": 1,
   "metadata": {},
   "outputs": [],
   "source": [
    "from util.gen_utils import *\n",
    "from util.ml_utils import *\n",
    "\n",
    "%load_ext autoreload\n",
    "%autoreload 2\n",
    "%matplotlib inline"
   ]
  },
  {
   "cell_type": "markdown",
   "metadata": {},
   "source": [
    "# Load training data"
   ]
  },
  {
   "cell_type": "code",
   "execution_count": 2,
   "metadata": {},
   "outputs": [
    {
     "name": "stdout",
     "output_type": "stream",
     "text": [
      "querying 1-1000...done.\n",
      "querying 1001-2000...done.\n",
      "querying 2001-3000...done.\n",
      "querying 3001-4000...done.\n",
      "querying 4001-5000...done.\n",
      "querying 5001-6000...done.\n",
      "querying 6001-7000...done.\n",
      "querying 7001-7041...done.\n",
      "Finished.\n",
      "15 input query terms found no hit:\n",
      "\t['ENSG00000133808', 'ENSG00000150076', 'ENSG00000155640', 'ENSG00000199837', 'ENSG00000213846', 'ENS\n",
      "querying 1-15...done.\n",
      "Finished.\n",
      "8 input query terms found no hit:\n",
      "\t['AL356053.1', 'none', 'none', 'RP11-367G6.3', 'none', 'none', 'none', 'none']\n"
     ]
    }
   ],
   "source": [
    "train_all = rnaseq_and_meta_data(\"../../data/rnaseq_discovery_data/sample_meta_postQC.csv\", \n",
    "                                 \"../../data/rnaseq_discovery_data/htseq_postQC.csv\", \n",
    "                                 \"../../data/rnaseq_discovery_data/TMM_postQC.csv\", mygene_db = mygene.MyGeneInfo())\n",
    "\n",
    "train_all.filter_to_gene_types(['protein_coding']) #Validation will be done with qPCR so limit to protein_coding"
   ]
  },
  {
   "cell_type": "code",
   "execution_count": 3,
   "metadata": {},
   "outputs": [],
   "source": [
    "#Train mask\n",
    "training_frac = 1.0 #Bcz all PE_STAN data was used in DE analysis and that is used for feature selection, all should be used for training\n",
    "\n",
    "masks = data_masks(train_frac = training_frac, seed = 1041, label_col = 'case') \n",
    "masks.add_mask('is_collected_pre17wks', (train_all.meta.ga_at_collection <= 16))\n",
    "masks.add_mask('is_training', masks.get_sampled_mask(train_all.meta, addtnl_mask_label = 'is_collected_pre17wks', blocking_col = 'subject'))\n",
    "masks.add_mask('is_pp', (train_all.meta.is_pp == 1)) #Want to filter post-partum samples\n",
    "\n",
    "#Logical combinations\n",
    "masks.add_mask_logical_and_combinations('is_training', 'is_collected_pre17wks')\n",
    "masks.add_mask_logical_and_combinations('is_training', 'is_pp')\n",
    "\n",
    "#Filter train_all to relevant samples\n",
    "train_mask = masks.masks['is_training_and_is_collected_pre17wks']\n",
    "train_late_mask = np.logical_and(masks.masks['is_training_and_not_is_collected_pre17wks'], masks.masks['is_training_and_not_is_pp'])\n",
    "train_all.filter_samples(train_mask)"
   ]
  },
  {
   "cell_type": "markdown",
   "metadata": {},
   "source": [
    "# Feature selection and model training\n",
    "* Start with features identified in DE and identify logFC changes pre and post 17 weeks\n",
    "* Filter initial list based on:\n",
    "    * Coefficient of variation cutoff [Want genes that appear to have stable logFC]\n",
    "    * logFC cutoff [Want genes that appear to be sig different between PE and control]\n",
    "    * CPM cutoff [Want highly expressed genes such that detection in qPCR or in smaller plasma sample is expected]\n",
    "* To choose appro cutoff for each filter, do param sweep + LR model"
   ]
  },
  {
   "cell_type": "code",
   "execution_count": 4,
   "metadata": {},
   "outputs": [
    {
     "name": "stdout",
     "output_type": "stream",
     "text": [
      "Now calculating logFC for Pre 17 weeks\n",
      "Now estimating logFC confidence interval for Pre 17 weeks\n",
      "1000 resampling iterations completed\n",
      "2000 resampling iterations completed\n",
      "Identifying when during gestation we observe changes\n"
     ]
    }
   ],
   "source": [
    "de_PE = de_data(\"out/de/DE_PEspecific_changes_over_gestation.csv\", alpha = 0.05, de_type = 'PE preg changes')\n",
    "sig_protein_coding_genes = de_PE.de.index[de_PE.is_sig_mask].intersection(train_all.rnaseq.logCPM.index)\n",
    "\n",
    "logFC_pre17_sig = logFC_data_by_group(sig_protein_coding_genes, {True : 'Pre 17 weeks'}, group_col = 'pre17_weeks', CV_cutoff = 1.0, logFC_cutoff = 0.5)\n",
    "logFC_pre17_sig.get_logFC_and_CI_by_group(train_all.rnaseq.logCPM.loc[sig_protein_coding_genes, :], \n",
    "                                          train_all.meta.join(train_mask.rename('pre17_weeks')))"
   ]
  },
  {
   "cell_type": "code",
   "execution_count": 5,
   "metadata": {},
   "outputs": [
    {
     "name": "stdout",
     "output_type": "stream",
     "text": [
      "Best score = 0.94 with 11 features and CV cutoff = 0.70, logFC cutoff = 0.00, CPM cutoff = 200\n"
     ]
    }
   ],
   "source": [
    "cv_cutoff_vals = np.arange(0.2, 1.1, 0.1) #Upper limit = 1.0 since CV > 1.0 means logFC switched signs\n",
    "logFC_cutoff_vals = np.arange(0, 1.25, 0.5) #logFC thresholding, visualizing data previously, mean |logFC| < 1.0 so sweep between 0 - 1.0\n",
    "high_expr_cutoff_vals = np.array([200]) #Min = 200 since ~10K copies\n",
    "\n",
    "best_fit = training_pipeline(train_all, logFC_pre17_sig, ['Pre 17 weeks'], cv_cutoff_vals, logFC_cutoff_vals, high_expr_cutoff_vals, n_max_coef = 25)"
   ]
  },
  {
   "cell_type": "markdown",
   "metadata": {},
   "source": [
    "# Check model performance\n",
    "* Check with training data\n",
    "* Check with independent dataset - Del Vecchio et al\n",
    "* Check with qPCR dataset from separate samples"
   ]
  },
  {
   "cell_type": "code",
   "execution_count": 6,
   "metadata": {},
   "outputs": [
    {
     "name": "stdout",
     "output_type": "stream",
     "text": [
      "Training results:\n",
      "ROC AUC = 0.94\n",
      "Report:\n",
      "              precision    recall  f1-score   support\n",
      "\n",
      "           0       0.89      1.00      0.94        25\n",
      "           1       1.00      0.88      0.93        24\n",
      "\n",
      "    accuracy                           0.94        49\n",
      "   macro avg       0.95      0.94      0.94        49\n",
      "weighted avg       0.95      0.94      0.94        49\n",
      "\n",
      "Confusion matrix:\n",
      "[[25  0]\n",
      " [ 3 21]]\n",
      "\n"
     ]
    }
   ],
   "source": [
    "train_data = ML_data(rnaseq_meta = train_all, y_col = 'case', to_batch_correct = True, group_col = 'subject', features = best_fit['features'])\n",
    "\n",
    "get_classification_results('Training', best_fit['model'], train_data)"
   ]
  },
  {
   "cell_type": "code",
   "execution_count": 7,
   "metadata": {},
   "outputs": [
    {
     "data": {
      "text/html": [
       "<div>\n",
       "<style scoped>\n",
       "    .dataframe tbody tr th:only-of-type {\n",
       "        vertical-align: middle;\n",
       "    }\n",
       "\n",
       "    .dataframe tbody tr th {\n",
       "        vertical-align: top;\n",
       "    }\n",
       "\n",
       "    .dataframe thead th {\n",
       "        text-align: right;\n",
       "    }\n",
       "</style>\n",
       "<table border=\"1\" class=\"dataframe\">\n",
       "  <thead>\n",
       "    <tr style=\"text-align: right;\">\n",
       "      <th></th>\n",
       "      <th>term</th>\n",
       "      <th>subject</th>\n",
       "      <th>ga_at_collection</th>\n",
       "      <th>is_pe</th>\n",
       "      <th>is_pp</th>\n",
       "      <th>case</th>\n",
       "      <th>group</th>\n",
       "      <th>pe_onset_ga_wk</th>\n",
       "      <th>pe_onset_ga_day</th>\n",
       "      <th>pe_onset_at_delivery</th>\n",
       "      <th>...</th>\n",
       "      <th>labor_start</th>\n",
       "      <th>del_mode</th>\n",
       "      <th>pe_feature</th>\n",
       "      <th>mult_gest</th>\n",
       "      <th>bmi</th>\n",
       "      <th>prev_preg_n</th>\n",
       "      <th>pe_type</th>\n",
       "      <th>weeks_post_del</th>\n",
       "      <th>prediction</th>\n",
       "      <th>score</th>\n",
       "    </tr>\n",
       "    <tr>\n",
       "      <th>sample</th>\n",
       "      <th></th>\n",
       "      <th></th>\n",
       "      <th></th>\n",
       "      <th></th>\n",
       "      <th></th>\n",
       "      <th></th>\n",
       "      <th></th>\n",
       "      <th></th>\n",
       "      <th></th>\n",
       "      <th></th>\n",
       "      <th></th>\n",
       "      <th></th>\n",
       "      <th></th>\n",
       "      <th></th>\n",
       "      <th></th>\n",
       "      <th></th>\n",
       "      <th></th>\n",
       "      <th></th>\n",
       "      <th></th>\n",
       "      <th></th>\n",
       "      <th></th>\n",
       "    </tr>\n",
       "  </thead>\n",
       "  <tbody>\n",
       "    <tr>\n",
       "      <th>PE_STAN_1960008088</th>\n",
       "      <td>1</td>\n",
       "      <td>19600</td>\n",
       "      <td>8.0</td>\n",
       "      <td>1</td>\n",
       "      <td>0</td>\n",
       "      <td>1</td>\n",
       "      <td>PE</td>\n",
       "      <td>39.0</td>\n",
       "      <td>4.0</td>\n",
       "      <td>0.0</td>\n",
       "      <td>...</td>\n",
       "      <td>Augmented</td>\n",
       "      <td>C-Section</td>\n",
       "      <td>mild</td>\n",
       "      <td>NaN</td>\n",
       "      <td>34.41</td>\n",
       "      <td>0</td>\n",
       "      <td>late</td>\n",
       "      <td>NaN</td>\n",
       "      <td>0</td>\n",
       "      <td>0.231192</td>\n",
       "    </tr>\n",
       "    <tr>\n",
       "      <th>PE_STAN_1053008158</th>\n",
       "      <td>2</td>\n",
       "      <td>10530</td>\n",
       "      <td>15.0</td>\n",
       "      <td>1</td>\n",
       "      <td>0</td>\n",
       "      <td>1</td>\n",
       "      <td>PE</td>\n",
       "      <td>36.0</td>\n",
       "      <td>2.0</td>\n",
       "      <td>0.0</td>\n",
       "      <td>...</td>\n",
       "      <td>NaN</td>\n",
       "      <td>C-Section</td>\n",
       "      <td>severe</td>\n",
       "      <td>NaN</td>\n",
       "      <td>28.40</td>\n",
       "      <td>3</td>\n",
       "      <td>late</td>\n",
       "      <td>NaN</td>\n",
       "      <td>0</td>\n",
       "      <td>0.314586</td>\n",
       "    </tr>\n",
       "    <tr>\n",
       "      <th>PE_STAN_2007008088</th>\n",
       "      <td>1</td>\n",
       "      <td>20070</td>\n",
       "      <td>8.0</td>\n",
       "      <td>1</td>\n",
       "      <td>0</td>\n",
       "      <td>1</td>\n",
       "      <td>PE</td>\n",
       "      <td>38.0</td>\n",
       "      <td>4.0</td>\n",
       "      <td>0.0</td>\n",
       "      <td>...</td>\n",
       "      <td>Induced</td>\n",
       "      <td>NSVD</td>\n",
       "      <td>severe</td>\n",
       "      <td>NaN</td>\n",
       "      <td>50.50</td>\n",
       "      <td>1</td>\n",
       "      <td>late</td>\n",
       "      <td>NaN</td>\n",
       "      <td>0</td>\n",
       "      <td>0.429738</td>\n",
       "    </tr>\n",
       "  </tbody>\n",
       "</table>\n",
       "<p>3 rows × 26 columns</p>\n",
       "</div>"
      ],
      "text/plain": [
       "                    term  subject  ga_at_collection  is_pe  is_pp  case group  \\\n",
       "sample                                                                          \n",
       "PE_STAN_1960008088     1    19600               8.0      1      0     1    PE   \n",
       "PE_STAN_1053008158     2    10530              15.0      1      0     1    PE   \n",
       "PE_STAN_2007008088     1    20070               8.0      1      0     1    PE   \n",
       "\n",
       "                    pe_onset_ga_wk  pe_onset_ga_day  pe_onset_at_delivery  \\\n",
       "sample                                                                      \n",
       "PE_STAN_1960008088            39.0              4.0                   0.0   \n",
       "PE_STAN_1053008158            36.0              2.0                   0.0   \n",
       "PE_STAN_2007008088            38.0              4.0                   0.0   \n",
       "\n",
       "                    ...  labor_start   del_mode  pe_feature  mult_gest    bmi  \\\n",
       "sample              ...                                                         \n",
       "PE_STAN_1960008088  ...    Augmented  C-Section        mild        NaN  34.41   \n",
       "PE_STAN_1053008158  ...          NaN  C-Section      severe        NaN  28.40   \n",
       "PE_STAN_2007008088  ...      Induced       NSVD      severe        NaN  50.50   \n",
       "\n",
       "                    prev_preg_n pe_type weeks_post_del prediction     score  \n",
       "sample                                                                       \n",
       "PE_STAN_1960008088            0    late            NaN          0  0.231192  \n",
       "PE_STAN_1053008158            3    late            NaN          0  0.314586  \n",
       "PE_STAN_2007008088            1    late            NaN          0  0.429738  \n",
       "\n",
       "[3 rows x 26 columns]"
      ]
     },
     "execution_count": 7,
     "metadata": {},
     "output_type": "execute_result"
    }
   ],
   "source": [
    "w_pred_train = train_all.meta.join(pd.Series(best_fit['model'].predict(train_data.X), index = train_data.y.index, name = 'prediction')).join(pd.Series(best_fit['model'].predict_proba(train_data.X)[:, 1], index = train_data.y.index, name = 'score'))\n",
    "w_pred_train.loc[w_pred_train.case != w_pred_train.prediction]"
   ]
  },
  {
   "cell_type": "code",
   "execution_count": 8,
   "metadata": {},
   "outputs": [
    {
     "name": "stdout",
     "output_type": "stream",
     "text": [
      "Delvecchio [PE vs Normotensive AND Other APOs] results:\n",
      "ROC AUC = 0.88\n",
      "Report:\n",
      "              precision    recall  f1-score   support\n",
      "\n",
      "           0       1.00      0.76      0.87        17\n",
      "           1       0.67      1.00      0.80         8\n",
      "\n",
      "    accuracy                           0.84        25\n",
      "   macro avg       0.83      0.88      0.83        25\n",
      "weighted avg       0.89      0.84      0.85        25\n",
      "\n",
      "Confusion matrix:\n",
      "[[13  4]\n",
      " [ 0  8]]\n",
      "\n",
      "Delvecchio [PE vs Normotensive] results:\n",
      "ROC AUC = 0.94\n",
      "Report:\n",
      "              precision    recall  f1-score   support\n",
      "\n",
      "           0       1.00      0.88      0.93         8\n",
      "           1       0.89      1.00      0.94         8\n",
      "\n",
      "    accuracy                           0.94        16\n",
      "   macro avg       0.94      0.94      0.94        16\n",
      "weighted avg       0.94      0.94      0.94        16\n",
      "\n",
      "Confusion matrix:\n",
      "[[7 1]\n",
      " [0 8]]\n",
      "\n"
     ]
    }
   ],
   "source": [
    "delvecchio_all = rnaseq_and_meta_data(\"../../data/delvecchio_data/sample_meta.csv\", \n",
    "                                 \"../../data/delvecchio_data/htseq_merged.csv\", \n",
    "                                 \"../../data/delvecchio_data/TMM.csv\",  mL_plasma = 0.2)\n",
    "\n",
    "#ML data should only contains samples <= 16 weeks which per Del Vecchio et al are T1 samples\n",
    "delvecchio_all.filter_samples((delvecchio_all.meta.term == 1))\n",
    "delvecchio_ml_data = ML_data(delvecchio_all, y_col = 'case', to_batch_correct = True, features = best_fit['features'])\n",
    "\n",
    "get_classification_results('Delvecchio [PE vs Normotensive AND Other APOs]', best_fit['model'], delvecchio_ml_data)\n",
    "\n",
    "only_pe_v_NT = delvecchio_all.meta.loc[delvecchio_all.meta.complication_during_pregnancy.isin(['No Complications', 'Preeclampsia/gestational hypertension'])].index\n",
    "delvecchio_ml_data_only_PEvNT = delvecchio_ml_data.filter_samples(only_pe_v_NT)\n",
    "\n",
    "get_classification_results('Delvecchio [PE vs Normotensive]', best_fit['model'], delvecchio_ml_data_only_PEvNT)"
   ]
  },
  {
   "cell_type": "code",
   "execution_count": 9,
   "metadata": {},
   "outputs": [
    {
     "data": {
      "text/html": [
       "<div>\n",
       "<style scoped>\n",
       "    .dataframe tbody tr th:only-of-type {\n",
       "        vertical-align: middle;\n",
       "    }\n",
       "\n",
       "    .dataframe tbody tr th {\n",
       "        vertical-align: top;\n",
       "    }\n",
       "\n",
       "    .dataframe thead th {\n",
       "        text-align: right;\n",
       "    }\n",
       "</style>\n",
       "<table border=\"1\" class=\"dataframe\">\n",
       "  <thead>\n",
       "    <tr style=\"text-align: right;\">\n",
       "      <th></th>\n",
       "      <th>subj_id</th>\n",
       "      <th>sample_type</th>\n",
       "      <th>BioSample</th>\n",
       "      <th>complication_during_pregnancy</th>\n",
       "      <th>term</th>\n",
       "      <th>case</th>\n",
       "      <th>prediction</th>\n",
       "      <th>score</th>\n",
       "    </tr>\n",
       "    <tr>\n",
       "      <th>sample</th>\n",
       "      <th></th>\n",
       "      <th></th>\n",
       "      <th></th>\n",
       "      <th></th>\n",
       "      <th></th>\n",
       "      <th></th>\n",
       "      <th></th>\n",
       "      <th></th>\n",
       "    </tr>\n",
       "  </thead>\n",
       "  <tbody>\n",
       "    <tr>\n",
       "      <th>SRR12214626</th>\n",
       "      <td>Chronic_hypertension_Patient_1</td>\n",
       "      <td>1st_Trimester</td>\n",
       "      <td>SAMN15523998</td>\n",
       "      <td>Chronic hypertension</td>\n",
       "      <td>1.0</td>\n",
       "      <td>0</td>\n",
       "      <td>1</td>\n",
       "      <td>0.962146</td>\n",
       "    </tr>\n",
       "    <tr>\n",
       "      <th>SRR12214576</th>\n",
       "      <td>Gestational_diabetes_Patient_6</td>\n",
       "      <td>1st_Trimester</td>\n",
       "      <td>SAMN15524018</td>\n",
       "      <td>Gestational Diabetes</td>\n",
       "      <td>1.0</td>\n",
       "      <td>0</td>\n",
       "      <td>1</td>\n",
       "      <td>0.927093</td>\n",
       "    </tr>\n",
       "    <tr>\n",
       "      <th>SRR12214538</th>\n",
       "      <td>Normal_Pregnancy_Patient_7</td>\n",
       "      <td>1st_Trimester</td>\n",
       "      <td>SAMN15524065</td>\n",
       "      <td>No Complications</td>\n",
       "      <td>1.0</td>\n",
       "      <td>0</td>\n",
       "      <td>1</td>\n",
       "      <td>0.948128</td>\n",
       "    </tr>\n",
       "    <tr>\n",
       "      <th>SRR12214553</th>\n",
       "      <td>Gestational_diabetes_Patient_1</td>\n",
       "      <td>1st_Trimester</td>\n",
       "      <td>SAMN15524081</td>\n",
       "      <td>Gestational Diabetes</td>\n",
       "      <td>1.0</td>\n",
       "      <td>0</td>\n",
       "      <td>1</td>\n",
       "      <td>0.908372</td>\n",
       "    </tr>\n",
       "  </tbody>\n",
       "</table>\n",
       "</div>"
      ],
      "text/plain": [
       "                                    subj_id    sample_type     BioSample  \\\n",
       "sample                                                                     \n",
       "SRR12214626  Chronic_hypertension_Patient_1  1st_Trimester  SAMN15523998   \n",
       "SRR12214576  Gestational_diabetes_Patient_6  1st_Trimester  SAMN15524018   \n",
       "SRR12214538      Normal_Pregnancy_Patient_7  1st_Trimester  SAMN15524065   \n",
       "SRR12214553  Gestational_diabetes_Patient_1  1st_Trimester  SAMN15524081   \n",
       "\n",
       "            complication_during_pregnancy  term  case  prediction     score  \n",
       "sample                                                                       \n",
       "SRR12214626          Chronic hypertension   1.0     0           1  0.962146  \n",
       "SRR12214576          Gestational Diabetes   1.0     0           1  0.927093  \n",
       "SRR12214538              No Complications   1.0     0           1  0.948128  \n",
       "SRR12214553          Gestational Diabetes   1.0     0           1  0.908372  "
      ]
     },
     "execution_count": 9,
     "metadata": {},
     "output_type": "execute_result"
    }
   ],
   "source": [
    "w_pred = delvecchio_all.meta.join(pd.Series(best_fit['model'].predict(delvecchio_ml_data.X), index = delvecchio_ml_data.y.index, name = 'prediction')).join(pd.Series(best_fit['model'].predict_proba(delvecchio_ml_data.X)[:, 1], index = delvecchio_ml_data.y.index, name = 'score')).dropna()\n",
    "w_pred.loc[w_pred.case != w_pred.prediction]"
   ]
  },
  {
   "cell_type": "markdown",
   "metadata": {},
   "source": [
    "# Check model performance later during pregnancy\n",
    "* Training data - Later samples - T2 or T3 pre diagnosis\n",
    "* Munchel et al S2, S3 for at diagnosis"
   ]
  },
  {
   "cell_type": "code",
   "execution_count": 10,
   "metadata": {},
   "outputs": [
    {
     "name": "stdout",
     "output_type": "stream",
     "text": [
      "Train results:\n",
      "ROC AUC = 0.79\n",
      "Report:\n",
      "              precision    recall  f1-score   support\n",
      "\n",
      "           0       0.73      0.85      0.79        13\n",
      "           1       0.85      0.73      0.79        15\n",
      "\n",
      "    accuracy                           0.79        28\n",
      "   macro avg       0.79      0.79      0.79        28\n",
      "weighted avg       0.79      0.79      0.79        28\n",
      "\n",
      "Confusion matrix:\n",
      "[[11  2]\n",
      " [ 4 11]]\n",
      "\n"
     ]
    }
   ],
   "source": [
    "train_late_all = rnaseq_and_meta_data(\"../../data/rnaseq_discovery_data/sample_meta_postQC.csv\", \n",
    "                                 \"../../data/rnaseq_discovery_data/htseq_postQC.csv\", \n",
    "                                 \"../../data/rnaseq_discovery_data/TMM_postQC.csv\")\n",
    "\n",
    "#ML data should only contains samples <= 17 weeks\n",
    "train_late_all.filter_samples(train_late_mask)\n",
    "train_late_ml_data = ML_data(train_late_all, y_col = 'case', to_batch_correct = True, features = best_fit['features'])\n",
    "\n",
    "get_classification_results('Train', best_fit['model'], train_late_ml_data)"
   ]
  },
  {
   "cell_type": "code",
   "execution_count": 11,
   "metadata": {},
   "outputs": [
    {
     "name": "stdout",
     "output_type": "stream",
     "text": [
      "Munchel S2 results:\n",
      "ROC AUC = 0.60\n",
      "Report:\n",
      "              precision    recall  f1-score   support\n",
      "\n",
      "           0       0.75      0.52      0.61        73\n",
      "           1       0.44      0.68      0.53        40\n",
      "\n",
      "    accuracy                           0.58       113\n",
      "   macro avg       0.59      0.60      0.57       113\n",
      "weighted avg       0.64      0.58      0.58       113\n",
      "\n",
      "Confusion matrix:\n",
      "[[38 35]\n",
      " [13 27]]\n",
      "\n"
     ]
    }
   ],
   "source": [
    "munchel_S2_all = rnaseq_and_meta_data(\"../../data/munchel_data/S2_meta.csv\", \n",
    "                                 \"../../data/munchel_data/S2_counts_only.csv\", \n",
    "                                 \"../../data/munchel_data/S2_TMM.csv\", counts_index_cols = [0], mL_plasma = 4.5)\n",
    "\n",
    "munchel_S2_ml_data = ML_data(munchel_S2_all, y_col = 'case', to_batch_correct = True, features = best_fit['features'].droplevel('gene_num'))\n",
    "\n",
    "get_classification_results('Munchel S2', best_fit['model'], munchel_S2_ml_data)"
   ]
  },
  {
   "cell_type": "code",
   "execution_count": 12,
   "metadata": {},
   "outputs": [
    {
     "name": "stdout",
     "output_type": "stream",
     "text": [
      "Munchel S3 results:\n",
      "ROC AUC = 0.62\n",
      "Report:\n",
      "              precision    recall  f1-score   support\n",
      "\n",
      "           0       0.62      0.62      0.62        24\n",
      "           1       0.62      0.62      0.62        24\n",
      "\n",
      "    accuracy                           0.62        48\n",
      "   macro avg       0.62      0.62      0.62        48\n",
      "weighted avg       0.62      0.62      0.62        48\n",
      "\n",
      "Confusion matrix:\n",
      "[[15  9]\n",
      " [ 9 15]]\n",
      "\n"
     ]
    }
   ],
   "source": [
    "munchel_s3_all = rnaseq_and_meta_data(\"../../data/munchel_data/S3_meta.csv\", \n",
    "                                 \"../../data/munchel_data/S3_counts_only.csv\", \n",
    "                                 \"../../data/munchel_data/S3_TMM.csv\", counts_index_cols = [0], mL_plasma = 4.5)\n",
    "\n",
    "munchel_s3_ml_data = ML_data(munchel_s3_all, y_col = 'case', to_batch_correct = True, features = best_fit['features'].droplevel('gene_num'))\n",
    "\n",
    "get_classification_results('Munchel S3', best_fit['model'], munchel_s3_ml_data)"
   ]
  },
  {
   "cell_type": "markdown",
   "metadata": {},
   "source": [
    "# Save model and features"
   ]
  },
  {
   "cell_type": "code",
   "execution_count": 13,
   "metadata": {},
   "outputs": [],
   "source": [
    "write_pkl(best_fit['model'], 'out/ml/fitted_model.pkl')\n",
    "write_pkl(masks, 'out/ml/train_data_masks.pkl')\n",
    "best_fit['features'].to_frame().to_csv('out/ml/fitted_model_features.csv', index = False)"
   ]
  },
  {
   "cell_type": "code",
   "execution_count": null,
   "metadata": {},
   "outputs": [],
   "source": []
  }
 ],
 "metadata": {
  "kernelspec": {
   "display_name": "Python [conda env:gen_comp]",
   "language": "python",
   "name": "conda-env-gen_comp-py"
  },
  "language_info": {
   "codemirror_mode": {
    "name": "ipython",
    "version": 3
   },
   "file_extension": ".py",
   "mimetype": "text/x-python",
   "name": "python",
   "nbconvert_exporter": "python",
   "pygments_lexer": "ipython3",
   "version": "3.6.10"
  }
 },
 "nbformat": 4,
 "nbformat_minor": 4
}
