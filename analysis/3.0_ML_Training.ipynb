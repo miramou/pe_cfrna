{
 "cells": [
  {
   "cell_type": "code",
   "execution_count": 1,
   "metadata": {},
   "outputs": [],
   "source": [
    "from util.gen_utils import *\n",
    "from util.ml_utils import *\n",
    "from util.plot_utils import *\n",
    "\n",
    "%load_ext autoreload\n",
    "%autoreload 2\n",
    "%matplotlib inline"
   ]
  },
  {
   "cell_type": "markdown",
   "metadata": {},
   "source": [
    "# Load training data"
   ]
  },
  {
   "cell_type": "code",
   "execution_count": 2,
   "metadata": {},
   "outputs": [],
   "source": [
    "path_prefix = '../../data/rnaseq_stanford_all/discovery/'\n",
    "\n",
    "train_all = rnaseq_and_meta_data(path_prefix + \"sample_meta_postQC.csv\", \n",
    "                                 path_prefix + \"logCPM_postQC_RemovedBatch.csv\",\n",
    "                                 path_prefix + \"TMM_postQC.csv\",\n",
    "                                 is_logCPM_path_R = True,\n",
    "                                 counts_index_cols = [0]\n",
    "                                )"
   ]
  },
  {
   "cell_type": "code",
   "execution_count": 3,
   "metadata": {},
   "outputs": [],
   "source": [
    "#Train mask\n",
    "training_frac = 0.8 #Bcz all PE_STAN data was used in DE analysis and that is used for feature selection, all should be used for training\n",
    "\n",
    "masks = data_masks(train_frac = training_frac, seed = 1041, label_col = 'case') \n",
    "masks.add_mask('is_collected_pre17wks', (train_all.meta.ga_at_collection <= 16))\n",
    "masks.add_mask('is_training', masks.get_sampled_mask(train_all.meta, addtnl_mask_label = 'is_collected_pre17wks', blocking_col = 'subject'))\n",
    "masks.add_mask('is_pp', (train_all.meta.is_pp == 1)) #Want to filter post-partum samples\n",
    "\n",
    "#Logical combinations\n",
    "masks.add_mask_logical_and_combinations('is_training', 'is_collected_pre17wks')\n",
    "masks.add_mask_logical_and_combinations('is_training', 'is_pp')\n",
    "\n",
    "#Filter train_all to relevant samples\n",
    "train_mask = masks.masks['is_training_and_is_collected_pre17wks']\n",
    "val_mask = masks.masks['not_is_training_and_is_collected_pre17wks']\n",
    "train_late_mask = np.logical_and(masks.masks['is_training_and_not_is_collected_pre17wks'], \n",
    "                                 masks.masks['is_training_and_not_is_pp'])\n",
    "\n",
    "train_split = train_all.filter_samples(train_mask, inplace = False)\n",
    "val_split = train_all.filter_samples(val_mask, inplace = False)\n",
    "\n",
    "train_all.filter_samples(np.logical_or(train_mask, val_mask))"
   ]
  },
  {
   "cell_type": "markdown",
   "metadata": {},
   "source": [
    "# Feature selection and model training\n",
    "* Start with features identified in DE and identify logFC changes pre and post 17 weeks\n",
    "* Filter initial list based on:\n",
    "    * Coefficient of variation cutoff [Want genes that appear to have stable logFC]\n",
    "    * logFC cutoff [Want genes that appear to be sig different between PE and control]\n",
    "* To choose appro cutoff for each filter, do param sweep + LR model\n",
    "* Post model selection, choose appro threshold using training data"
   ]
  },
  {
   "cell_type": "code",
   "execution_count": 4,
   "metadata": {},
   "outputs": [],
   "source": [
    "cv_cutoff_vals = np.array([0.5,1,2,10]) #CV = 10 means don't consider CV as part of feat selection\n",
    "logFC_cutoff_vals = np.arange(0.25, 1.25, 0.25) #logFC thresholding, visualizing data previously, mean |logFC| < 1.0 so sweep between 0 - 1.0"
   ]
  },
  {
   "cell_type": "code",
   "execution_count": 5,
   "metadata": {},
   "outputs": [],
   "source": [
    "de_PE = de_data(\"out/de/DE_PEspecific_onlyGA_changes_timeToPE_w_covar_bmi_fsex_w_batch.csv\", \n",
    "                alpha = 0.05, de_type = 'PE preg changes', to_round = False)\n",
    "\n",
    "ml_data_kwargs = {'to_norm_to_stable_genes' : True, \n",
    "                  'stable_genes' : de_PE.de.loc[de_PE.de.adj_pval > 0.99].index,\n",
    "                  'to_center' : True, \n",
    "                  'to_scale' : True,\n",
    "                  'impute_dropout' : False\n",
    "                 }\n",
    "\n",
    "lfc_col_name = 'Pre 17 weeks'"
   ]
  },
  {
   "cell_type": "code",
   "execution_count": 6,
   "metadata": {},
   "outputs": [
    {
     "name": "stdout",
     "output_type": "stream",
     "text": [
      "Now calculating logFC for Pre 17 weeks\n",
      "Now estimating logFC confidence interval for Pre 17 weeks\n",
      "1000 resampling iterations completed\n",
      "2000 resampling iterations completed\n",
      "Identifying when during gestation we observe changes\n"
     ]
    }
   ],
   "source": [
    "logFC_pre17_sig = logFC_data_by_group(de_PE.sig_genes,\n",
    "                                      {True : lfc_col_name}, \n",
    "                                      group_col = 'pre17_weeks', \n",
    "                                      CV_cutoff = 1.0, logFC_cutoff = 0.5\n",
    "                                     )\n",
    "\n",
    "logFC_pre17_sig.get_logFC_and_CI_by_group(train_split.rnaseq.logCPM.loc[de_PE.sig_genes], \n",
    "                                          train_split.meta.join(train_mask.rename('pre17_weeks')))"
   ]
  },
  {
   "cell_type": "code",
   "execution_count": 7,
   "metadata": {},
   "outputs": [
    {
     "name": "stdout",
     "output_type": "stream",
     "text": [
      "So far - Best score = 0.82, Best val score = 0.98 with 13 features and CV cutoff = 0.50, logFC cutoff = 0.25\n",
      "So far - Best score = 0.97, Best val score = 0.99 with 23 features and CV cutoff = 1.00, logFC cutoff = 0.25\n",
      "So far - Best score = 0.99, Best val score = 1.00 with 18 features and CV cutoff = 10.00, logFC cutoff = 0.25\n",
      "Best score = 0.99, Best val score = 1.00 with 18 features and CV cutoff = 10.00, logFC cutoff = 0.25\n"
     ]
    }
   ],
   "source": [
    "best_fit = training_pipeline(train_split, logFC_pre17_sig, [lfc_col_name],\n",
    "                             cv_cutoffs_to_try = cv_cutoff_vals, \n",
    "                             logFC_cutoffs_to_try = logFC_cutoff_vals,\n",
    "                             val_rnaseq_meta = val_split, \n",
    "                             **ml_data_kwargs\n",
    "                            )"
   ]
  },
  {
   "cell_type": "code",
   "execution_count": 8,
   "metadata": {},
   "outputs": [
    {
     "data": {
      "text/html": [
       "<div>\n",
       "<style scoped>\n",
       "    .dataframe tbody tr th:only-of-type {\n",
       "        vertical-align: middle;\n",
       "    }\n",
       "\n",
       "    .dataframe tbody tr th {\n",
       "        vertical-align: top;\n",
       "    }\n",
       "\n",
       "    .dataframe thead th {\n",
       "        text-align: right;\n",
       "    }\n",
       "</style>\n",
       "<table border=\"1\" class=\"dataframe\">\n",
       "  <thead>\n",
       "    <tr style=\"text-align: right;\">\n",
       "      <th></th>\n",
       "      <th></th>\n",
       "      <th>coef</th>\n",
       "      <th>odds</th>\n",
       "      <th>logFC</th>\n",
       "      <th>CV</th>\n",
       "    </tr>\n",
       "    <tr>\n",
       "      <th>gene_name</th>\n",
       "      <th>gene_num</th>\n",
       "      <th></th>\n",
       "      <th></th>\n",
       "      <th></th>\n",
       "      <th></th>\n",
       "    </tr>\n",
       "  </thead>\n",
       "  <tbody>\n",
       "    <tr>\n",
       "      <th>TRIM21</th>\n",
       "      <th>ENSG00000132109</th>\n",
       "      <td>-0.127229</td>\n",
       "      <td>0.88</td>\n",
       "      <td>-0.68</td>\n",
       "      <td>1.35</td>\n",
       "    </tr>\n",
       "    <tr>\n",
       "      <th>Y_RNA</th>\n",
       "      <th>ENSG00000201412</th>\n",
       "      <td>0.617053</td>\n",
       "      <td>1.85</td>\n",
       "      <td>1.42</td>\n",
       "      <td>0.61</td>\n",
       "    </tr>\n",
       "    <tr>\n",
       "      <th>LRRC58</th>\n",
       "      <th>ENSG00000163428</th>\n",
       "      <td>-0.236199</td>\n",
       "      <td>0.79</td>\n",
       "      <td>-0.29</td>\n",
       "      <td>5.62</td>\n",
       "    </tr>\n",
       "    <tr>\n",
       "      <th>NDUFV3</th>\n",
       "      <th>ENSG00000160194</th>\n",
       "      <td>-0.417266</td>\n",
       "      <td>0.66</td>\n",
       "      <td>-0.63</td>\n",
       "      <td>2.73</td>\n",
       "    </tr>\n",
       "    <tr>\n",
       "      <th>KIAA1109</th>\n",
       "      <th>ENSG00000138688</th>\n",
       "      <td>-0.119836</td>\n",
       "      <td>0.89</td>\n",
       "      <td>-0.55</td>\n",
       "      <td>1.51</td>\n",
       "    </tr>\n",
       "    <tr>\n",
       "      <th>MYLIP</th>\n",
       "      <th>ENSG00000007944</th>\n",
       "      <td>-0.067027</td>\n",
       "      <td>0.94</td>\n",
       "      <td>-1.10</td>\n",
       "      <td>0.95</td>\n",
       "    </tr>\n",
       "    <tr>\n",
       "      <th>USB1</th>\n",
       "      <th>ENSG00000103005</th>\n",
       "      <td>-0.160827</td>\n",
       "      <td>0.85</td>\n",
       "      <td>-0.54</td>\n",
       "      <td>1.30</td>\n",
       "    </tr>\n",
       "    <tr>\n",
       "      <th>RNF149</th>\n",
       "      <th>ENSG00000163162</th>\n",
       "      <td>-0.204563</td>\n",
       "      <td>0.82</td>\n",
       "      <td>-1.26</td>\n",
       "      <td>1.33</td>\n",
       "    </tr>\n",
       "    <tr>\n",
       "      <th>TFIP11</th>\n",
       "      <th>ENSG00000100109</th>\n",
       "      <td>-0.108378</td>\n",
       "      <td>0.90</td>\n",
       "      <td>-0.49</td>\n",
       "      <td>2.47</td>\n",
       "    </tr>\n",
       "    <tr>\n",
       "      <th>CAMK2G</th>\n",
       "      <th>ENSG00000148660</th>\n",
       "      <td>-0.436554</td>\n",
       "      <td>0.65</td>\n",
       "      <td>-0.48</td>\n",
       "      <td>1.15</td>\n",
       "    </tr>\n",
       "    <tr>\n",
       "      <th>PRTFDC1</th>\n",
       "      <th>ENSG00000099256</th>\n",
       "      <td>0.280438</td>\n",
       "      <td>1.32</td>\n",
       "      <td>0.96</td>\n",
       "      <td>1.02</td>\n",
       "    </tr>\n",
       "    <tr>\n",
       "      <th>FAM46A</th>\n",
       "      <th>ENSG00000112773</th>\n",
       "      <td>-0.089933</td>\n",
       "      <td>0.91</td>\n",
       "      <td>-1.31</td>\n",
       "      <td>0.52</td>\n",
       "    </tr>\n",
       "    <tr>\n",
       "      <th>PYGO2</th>\n",
       "      <th>ENSG00000163348</th>\n",
       "      <td>-0.047684</td>\n",
       "      <td>0.95</td>\n",
       "      <td>-1.14</td>\n",
       "      <td>0.73</td>\n",
       "    </tr>\n",
       "    <tr>\n",
       "      <th>DERA</th>\n",
       "      <th>ENSG00000023697</th>\n",
       "      <td>0.065617</td>\n",
       "      <td>1.07</td>\n",
       "      <td>0.30</td>\n",
       "      <td>1.97</td>\n",
       "    </tr>\n",
       "    <tr>\n",
       "      <th>PI4KA</th>\n",
       "      <th>ENSG00000241973</th>\n",
       "      <td>-0.101610</td>\n",
       "      <td>0.90</td>\n",
       "      <td>-0.38</td>\n",
       "      <td>1.61</td>\n",
       "    </tr>\n",
       "    <tr>\n",
       "      <th>NMRK1</th>\n",
       "      <th>ENSG00000106733</th>\n",
       "      <td>0.349384</td>\n",
       "      <td>1.42</td>\n",
       "      <td>0.92</td>\n",
       "      <td>0.87</td>\n",
       "    </tr>\n",
       "    <tr>\n",
       "      <th>YWHAQP5</th>\n",
       "      <th>ENSG00000236564</th>\n",
       "      <td>0.085174</td>\n",
       "      <td>1.09</td>\n",
       "      <td>1.64</td>\n",
       "      <td>0.79</td>\n",
       "    </tr>\n",
       "    <tr>\n",
       "      <th>Y_RNA</th>\n",
       "      <th>ENSG00000238912</th>\n",
       "      <td>0.076103</td>\n",
       "      <td>1.08</td>\n",
       "      <td>0.89</td>\n",
       "      <td>0.69</td>\n",
       "    </tr>\n",
       "  </tbody>\n",
       "</table>\n",
       "</div>"
      ],
      "text/plain": [
       "                               coef  odds  logFC    CV\n",
       "gene_name gene_num                                    \n",
       "TRIM21    ENSG00000132109 -0.127229  0.88  -0.68  1.35\n",
       "Y_RNA     ENSG00000201412  0.617053  1.85   1.42  0.61\n",
       "LRRC58    ENSG00000163428 -0.236199  0.79  -0.29  5.62\n",
       "NDUFV3    ENSG00000160194 -0.417266  0.66  -0.63  2.73\n",
       "KIAA1109  ENSG00000138688 -0.119836  0.89  -0.55  1.51\n",
       "MYLIP     ENSG00000007944 -0.067027  0.94  -1.10  0.95\n",
       "USB1      ENSG00000103005 -0.160827  0.85  -0.54  1.30\n",
       "RNF149    ENSG00000163162 -0.204563  0.82  -1.26  1.33\n",
       "TFIP11    ENSG00000100109 -0.108378  0.90  -0.49  2.47\n",
       "CAMK2G    ENSG00000148660 -0.436554  0.65  -0.48  1.15\n",
       "PRTFDC1   ENSG00000099256  0.280438  1.32   0.96  1.02\n",
       "FAM46A    ENSG00000112773 -0.089933  0.91  -1.31  0.52\n",
       "PYGO2     ENSG00000163348 -0.047684  0.95  -1.14  0.73\n",
       "DERA      ENSG00000023697  0.065617  1.07   0.30  1.97\n",
       "PI4KA     ENSG00000241973 -0.101610  0.90  -0.38  1.61\n",
       "NMRK1     ENSG00000106733  0.349384  1.42   0.92  0.87\n",
       "YWHAQP5   ENSG00000236564  0.085174  1.09   1.64  0.79\n",
       "Y_RNA     ENSG00000238912  0.076103  1.08   0.89  0.69"
      ]
     },
     "execution_count": 8,
     "metadata": {},
     "output_type": "execute_result"
    }
   ],
   "source": [
    "pd.DataFrame(index = best_fit['features'], data = {'coef' : best_fit['model'].coef_[0, :], \n",
    "                                                   'odds' :  np.exp(best_fit['model'].coef_[0, :]).round(2),\n",
    "                                                  'logFC' : logFC_pre17_sig.logFC.loc[best_fit['features'], 'Pre 17 weeks'],\n",
    "                                                  'CV' : logFC_pre17_sig.CV.loc[best_fit['features'], 'Pre 17 weeks']}\n",
    "            )"
   ]
  },
  {
   "cell_type": "markdown",
   "metadata": {},
   "source": [
    "# Find optimal threshold\n",
    "* Using training data"
   ]
  },
  {
   "cell_type": "code",
   "execution_count": 9,
   "metadata": {},
   "outputs": [],
   "source": [
    "train_data = ML_data(rnaseq_meta = train_all, y_col = 'case', \n",
    "                     group_col = 'subject', features = best_fit['features'],\n",
    "                     only_gene_name = True,\n",
    "                    **ml_data_kwargs)\n",
    "\n",
    "roc_aucs_pr_train = get_auc_roc_CI(best_fit['model'], train_data)"
   ]
  },
  {
   "cell_type": "code",
   "execution_count": 10,
   "metadata": {},
   "outputs": [
    {
     "data": {
      "text/plain": [
       "0.35"
      ]
     },
     "execution_count": 10,
     "metadata": {},
     "output_type": "execute_result"
    }
   ],
   "source": [
    "tshld_at_10pct_fpr = roc_aucs_pr_train['roc_curve_tshlds'][np.where(roc_aucs_pr_train['fpr'].round(1) == 0.1)].min()\n",
    "tshld_at_10pct_fpr = ((tshld_at_10pct_fpr*100 // 5) * 5)/100 #Round to nearest 5th since data is noisy and having an extremely specific threshold seems odd at this point\n",
    "tshld_at_10pct_fpr"
   ]
  },
  {
   "cell_type": "markdown",
   "metadata": {},
   "source": [
    "# Check model performance\n",
    "* Check with training data\n",
    "* Check with independent dataset - Del Vecchio et al\n",
    "* Check with qPCR dataset from separate samples"
   ]
  },
  {
   "cell_type": "code",
   "execution_count": 11,
   "metadata": {},
   "outputs": [
    {
     "name": "stdout",
     "output_type": "stream",
     "text": [
      "Training results:\n",
      "ROC AUC = 0.99\n",
      "Report:\n",
      "              precision    recall  f1-score   support\n",
      "\n",
      "           0       1.00      0.85      0.92        61\n",
      "           1       0.73      1.00      0.84        24\n",
      "\n",
      "    accuracy                           0.89        85\n",
      "   macro avg       0.86      0.93      0.88        85\n",
      "weighted avg       0.92      0.89      0.90        85\n",
      "\n",
      "Confusion matrix:\n",
      "[[52  9]\n",
      " [ 0 24]]\n",
      "\n"
     ]
    }
   ],
   "source": [
    "get_classification_results('Training', best_fit['model'], train_data, threshold = tshld_at_10pct_fpr)"
   ]
  },
  {
   "cell_type": "code",
   "execution_count": 12,
   "metadata": {},
   "outputs": [
    {
     "name": "stdout",
     "output_type": "stream",
     "text": [
      "Validation results:\n",
      "ROC AUC = 0.71\n",
      "Report:\n",
      "              precision    recall  f1-score   support\n",
      "\n",
      "           0       0.91      0.57      0.70        35\n",
      "           1       0.29      0.75      0.41         8\n",
      "\n",
      "    accuracy                           0.60        43\n",
      "   macro avg       0.60      0.66      0.56        43\n",
      "weighted avg       0.79      0.60      0.65        43\n",
      "\n",
      "Confusion matrix:\n",
      "[[20 15]\n",
      " [ 2  6]]\n",
      "\n"
     ]
    }
   ],
   "source": [
    "val_data_prefix = \"../../data/rnaseq_stanford_all/val/\" \n",
    "val_data = rnaseq_and_meta_data(val_data_prefix + \"sample_meta_postQC.csv\", \n",
    "                                 val_data_prefix + \"htseq_postQC.csv\", \n",
    "                                 val_data_prefix + \"TMM_postQC.csv\")\n",
    "\n",
    "val_data.filter_samples((val_data.meta.ga_at_collection <= 16))\n",
    "\n",
    "val_ml_data = ML_data(val_data, y_col = 'case',\n",
    "                      features = best_fit['features'],\n",
    "                      only_gene_name = True,\n",
    "                      **ml_data_kwargs,\n",
    "                     fitted_scaler = train_data.fitted_scaler\n",
    "                     )\n",
    "\n",
    "get_classification_results('Validation', best_fit['model'], val_ml_data, threshold = tshld_at_10pct_fpr)"
   ]
  },
  {
   "cell_type": "code",
   "execution_count": 13,
   "metadata": {},
   "outputs": [
    {
     "name": "stdout",
     "output_type": "stream",
     "text": [
      "Delvecchio [PE vs Normotensive AND Other APOs] results:\n",
      "ROC AUC = 0.74\n",
      "Report:\n",
      "              precision    recall  f1-score   support\n",
      "\n",
      "           0       0.89      1.00      0.94        17\n",
      "           1       1.00      0.60      0.75         5\n",
      "\n",
      "    accuracy                           0.91        22\n",
      "   macro avg       0.95      0.80      0.85        22\n",
      "weighted avg       0.92      0.91      0.90        22\n",
      "\n",
      "Confusion matrix:\n",
      "[[17  0]\n",
      " [ 2  3]]\n",
      "\n",
      "Delvecchio [PE vs Normotensive] results:\n",
      "ROC AUC = 0.80\n",
      "Report:\n",
      "              precision    recall  f1-score   support\n",
      "\n",
      "           0       0.80      1.00      0.89         8\n",
      "           1       1.00      0.60      0.75         5\n",
      "\n",
      "    accuracy                           0.85        13\n",
      "   macro avg       0.90      0.80      0.82        13\n",
      "weighted avg       0.88      0.85      0.84        13\n",
      "\n",
      "Confusion matrix:\n",
      "[[8 0]\n",
      " [2 3]]\n",
      "\n"
     ]
    }
   ],
   "source": [
    "delvecchio_all = rnaseq_and_meta_data(\"../../data/delvecchio_data/sample_meta_w_ga_col.csv\", \n",
    "                                 \"../../data/delvecchio_data/htseq_merged.csv\", \n",
    "                                 \"../../data/delvecchio_data/TMM.csv\",  mL_plasma = 0.2)\n",
    "\n",
    "gest_ht_id = ['SRR12214586', 'SRR12214596', 'SRR12214601']\n",
    "\n",
    "#ML data should only contains samples <= 16 weeks which per Del Vecchio et al are T1 samples\n",
    "delvecchio_all.filter_samples((delvecchio_all.meta.term == 1))\n",
    "delvecchio_all.filter_samples(~delvecchio_all.meta.index.isin(gest_ht_id))\n",
    "\n",
    "delvecchio_ml_data = ML_data(delvecchio_all, y_col = 'case',\n",
    "                             features = best_fit['features'],\n",
    "                             **ml_data_kwargs,\n",
    "                             fitted_scaler = train_data.fitted_scaler,\n",
    "                            )\n",
    "\n",
    "get_classification_results('Delvecchio [PE vs Normotensive AND Other APOs]', best_fit['model'], delvecchio_ml_data, threshold = tshld_at_10pct_fpr)\n",
    "\n",
    "only_pe_v_NT = delvecchio_all.meta.loc[delvecchio_all.meta.complication_during_pregnancy.isin(['No Complications', 'Preeclampsia/gestational hypertension'])].index\n",
    "delvecchio_ml_data_only_pe_v_NT = delvecchio_ml_data.filter_samples(only_pe_v_NT)\n",
    "\n",
    "get_classification_results('Delvecchio [PE vs Normotensive]', best_fit['model'], delvecchio_ml_data_only_pe_v_NT, threshold = tshld_at_10pct_fpr)"
   ]
  },
  {
   "cell_type": "code",
   "execution_count": 14,
   "metadata": {},
   "outputs": [
    {
     "data": {
      "text/html": [
       "<div>\n",
       "<style scoped>\n",
       "    .dataframe tbody tr th:only-of-type {\n",
       "        vertical-align: middle;\n",
       "    }\n",
       "\n",
       "    .dataframe tbody tr th {\n",
       "        vertical-align: top;\n",
       "    }\n",
       "\n",
       "    .dataframe thead tr th {\n",
       "        text-align: left;\n",
       "    }\n",
       "\n",
       "    .dataframe thead tr:last-of-type th {\n",
       "        text-align: right;\n",
       "    }\n",
       "</style>\n",
       "<table border=\"1\" class=\"dataframe\">\n",
       "  <thead>\n",
       "    <tr>\n",
       "      <th></th>\n",
       "      <th colspan=\"3\" halign=\"left\">score</th>\n",
       "    </tr>\n",
       "    <tr>\n",
       "      <th></th>\n",
       "      <th>median</th>\n",
       "      <th>mean</th>\n",
       "      <th>std</th>\n",
       "    </tr>\n",
       "    <tr>\n",
       "      <th>complication_during_pregnancy</th>\n",
       "      <th></th>\n",
       "      <th></th>\n",
       "      <th></th>\n",
       "    </tr>\n",
       "  </thead>\n",
       "  <tbody>\n",
       "    <tr>\n",
       "      <th>Chronic hypertension</th>\n",
       "      <td>0.183657</td>\n",
       "      <td>0.183657</td>\n",
       "      <td>0.126258</td>\n",
       "    </tr>\n",
       "    <tr>\n",
       "      <th>Gestational Diabetes</th>\n",
       "      <td>0.144472</td>\n",
       "      <td>0.149283</td>\n",
       "      <td>0.084637</td>\n",
       "    </tr>\n",
       "    <tr>\n",
       "      <th>No Complications</th>\n",
       "      <td>0.071676</td>\n",
       "      <td>0.098006</td>\n",
       "      <td>0.079910</td>\n",
       "    </tr>\n",
       "    <tr>\n",
       "      <th>Preeclampsia/gestational hypertension</th>\n",
       "      <td>0.373341</td>\n",
       "      <td>0.332159</td>\n",
       "      <td>0.250379</td>\n",
       "    </tr>\n",
       "  </tbody>\n",
       "</table>\n",
       "</div>"
      ],
      "text/plain": [
       "                                          score                    \n",
       "                                         median      mean       std\n",
       "complication_during_pregnancy                                      \n",
       "Chronic hypertension                   0.183657  0.183657  0.126258\n",
       "Gestational Diabetes                   0.144472  0.149283  0.084637\n",
       "No Complications                       0.071676  0.098006  0.079910\n",
       "Preeclampsia/gestational hypertension  0.373341  0.332159  0.250379"
      ]
     },
     "execution_count": 14,
     "metadata": {},
     "output_type": "execute_result"
    }
   ],
   "source": [
    "w_pred_dv = add_pred_to_meta(delvecchio_all.meta, best_fit['model'], delvecchio_ml_data, threshold = tshld_at_10pct_fpr)\n",
    "w_pred_dv.groupby('complication_during_pregnancy').agg({'score' : ['median', 'mean', 'std']})"
   ]
  },
  {
   "cell_type": "code",
   "execution_count": 15,
   "metadata": {},
   "outputs": [
    {
     "name": "stdout",
     "output_type": "stream",
     "text": [
      "GAPPs results:\n",
      "ROC AUC = 0.72\n",
      "Report:\n",
      "              precision    recall  f1-score   support\n",
      "\n",
      "           0       0.78      0.69      0.73        61\n",
      "           1       0.46      0.57      0.51        28\n",
      "\n",
      "    accuracy                           0.65        89\n",
      "   macro avg       0.62      0.63      0.62        89\n",
      "weighted avg       0.68      0.65      0.66        89\n",
      "\n",
      "Confusion matrix:\n",
      "[[42 19]\n",
      " [12 16]]\n",
      "\n"
     ]
    }
   ],
   "source": [
    "gapps = rnaseq_and_meta_data(\"../../data/gapps/sample_meta_postQC.csv\", \n",
    "                                 \"../../data/gapps/htseq_postQC.csv\", \n",
    "                                 \"../../data/gapps/TMM_postQC.csv\",  mL_plasma = 1.0)\n",
    "\n",
    "gapps_ml_data = ML_data(gapps, y_col = 'case',\n",
    "                        features = best_fit['features'],\n",
    "                        only_gene_name = True,\n",
    "                        **ml_data_kwargs,\n",
    "                        fitted_scaler = train_data.fitted_scaler\n",
    "                       )\n",
    "\n",
    "get_classification_results('GAPPs', best_fit['model'], gapps_ml_data, threshold = tshld_at_10pct_fpr)"
   ]
  },
  {
   "cell_type": "markdown",
   "metadata": {},
   "source": [
    "# Save model and features"
   ]
  },
  {
   "cell_type": "code",
   "execution_count": 16,
   "metadata": {},
   "outputs": [],
   "source": [
    "write_pkl(best_fit['model'], 'out/ml/fitted_model.pkl')\n",
    "write_pkl(masks, 'out/ml/train_data_masks.pkl')\n",
    "write_pkl(tshld_at_10pct_fpr, 'out/ml/selected_tshld.pkl')\n",
    "\n",
    "best_fit['features'].to_frame().to_csv('out/ml/fitted_model_features.csv', index = False)\n",
    "ml_data_kwargs['stable_genes'].to_frame().to_csv('out/ml/stable_genes.csv', index = False)"
   ]
  },
  {
   "cell_type": "code",
   "execution_count": null,
   "metadata": {},
   "outputs": [],
   "source": []
  }
 ],
 "metadata": {
  "kernelspec": {
   "display_name": "Python [conda env:gen_comp]",
   "language": "python",
   "name": "conda-env-gen_comp-py"
  },
  "language_info": {
   "codemirror_mode": {
    "name": "ipython",
    "version": 3
   },
   "file_extension": ".py",
   "mimetype": "text/x-python",
   "name": "python",
   "nbconvert_exporter": "python",
   "pygments_lexer": "ipython3",
   "version": "3.6.10"
  }
 },
 "nbformat": 4,
 "nbformat_minor": 4
}
